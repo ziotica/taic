{
  "nbformat": 4,
  "nbformat_minor": 0,
  "metadata": {
    "colab": {
      "provenance": []
    },
    "kernelspec": {
      "name": "python3",
      "display_name": "Python 3"
    },
    "language_info": {
      "name": "python"
    }
  },
  "cells": [
    {
      "cell_type": "markdown",
      "source": [
        "# TAIC Incident Report Analysis - Z Swinburne 300560705\n",
        "\n",
        "The texts in this corpus are the executive summaries of closed investigations conducted by TAIC ([Transport Accident Investigation Commission](https://www.taic.org.nz/inquiries?keyword=&mode%5B6%5D=6&status%5B12%5D=12&field_jurisdiction_target_id%5B9%5D=9&occurrence_date%5Bmin%5D=&occurrence_date%5Bmax%5D=&publication_date%5Bmin%5D=&publication_date%5Bmax%5D=)\n",
        "), of incidents occuring from 01-07-2008 to present.\n",
        "01-07-2008 is the date that renationalisation of New Zealand rail comes into effect, and KiwiRail is created to take over operations.\n",
        "\n",
        "The texts are collected from the TAIC 'Investigations' website section, with filters set to:\n",
        "\n",
        "    Mode: Rail\n",
        "    Status: Closed\n",
        "    Jurisdiction: NZ\n",
        "Note: TAIC has no rail investigations in an overseas jurisdiction, but we do this for laughs and posterity.\n",
        "\n",
        "The investigation ID is saved as the filename, with the structure\n",
        "\n",
        "    RO-20XX-1XX\n",
        "which is broken down as\n",
        "\n",
        "    Mode:Rail-Year_Of_Incident-Incident_ID\n",
        "\n",
        "The content of the executive summary is found on the home page of each investigation, under the categorical information of the report, detailing:\n",
        "\n",
        "    {\n",
        "    - Locomotive(s) involved\n",
        "    - Brief description of the incident\n",
        "    - Location of the incident\n",
        "    - Date of the incident\n",
        "    }\n",
        "\n",
        "    {\n",
        "    - Status\n",
        "    - Occurrence Date\n",
        "    - Report Publication Date\n",
        "    - Jurisdiction\n",
        "    }\n",
        "The summaries can also be found in the .pdf reports on the TAIC site, under the header 'Executive Summary'.\n",
        "\n",
        "The contents of each summary are copied and saved into a .txt file, and added to the taic-reports folder."
      ],
      "metadata": {
        "id": "PzFouFZKMNwW"
      }
    },
    {
      "cell_type": "markdown",
      "source": [
        "Some of the photos are collected by me and my camera <|:-D\n",
        "\n",
        "Clockwork orange is a livery from https://nzrailphotos.co.nz/liveries\n",
        "\n",
        "The older photograph is taken from a member of the Train Sim NZ discord server\n",
        "\n",
        "✦ Photos are in attached folder called trains"
      ],
      "metadata": {
        "id": "ntrCAm34iB_2"
      }
    },
    {
      "cell_type": "code",
      "source": [
        "from google.colab import drive\n",
        "drive.mount('/content/drive')"
      ],
      "metadata": {
        "id": "pVzo-tpfF3QX",
        "colab": {
          "base_uri": "https://localhost:8080/",
          "height": 333
        },
        "outputId": "6d87634d-5476-4d7c-9790-2e9b81135bda"
      },
      "execution_count": null,
      "outputs": [
        {
          "output_type": "error",
          "ename": "MessageError",
          "evalue": "Error: credential propagation was unsuccessful",
          "traceback": [
            "\u001b[0;31m---------------------------------------------------------------------------\u001b[0m",
            "\u001b[0;31mMessageError\u001b[0m                              Traceback (most recent call last)",
            "\u001b[0;32m<ipython-input-1-d5df0069828e>\u001b[0m in \u001b[0;36m<cell line: 2>\u001b[0;34m()\u001b[0m\n\u001b[1;32m      1\u001b[0m \u001b[0;32mfrom\u001b[0m \u001b[0mgoogle\u001b[0m\u001b[0;34m.\u001b[0m\u001b[0mcolab\u001b[0m \u001b[0;32mimport\u001b[0m \u001b[0mdrive\u001b[0m\u001b[0;34m\u001b[0m\u001b[0;34m\u001b[0m\u001b[0m\n\u001b[0;32m----> 2\u001b[0;31m \u001b[0mdrive\u001b[0m\u001b[0;34m.\u001b[0m\u001b[0mmount\u001b[0m\u001b[0;34m(\u001b[0m\u001b[0;34m'/content/drive'\u001b[0m\u001b[0;34m)\u001b[0m\u001b[0;34m\u001b[0m\u001b[0;34m\u001b[0m\u001b[0m\n\u001b[0m",
            "\u001b[0;32m/usr/local/lib/python3.10/dist-packages/google/colab/drive.py\u001b[0m in \u001b[0;36mmount\u001b[0;34m(mountpoint, force_remount, timeout_ms, readonly)\u001b[0m\n\u001b[1;32m     98\u001b[0m \u001b[0;32mdef\u001b[0m \u001b[0mmount\u001b[0m\u001b[0;34m(\u001b[0m\u001b[0mmountpoint\u001b[0m\u001b[0;34m,\u001b[0m \u001b[0mforce_remount\u001b[0m\u001b[0;34m=\u001b[0m\u001b[0;32mFalse\u001b[0m\u001b[0;34m,\u001b[0m \u001b[0mtimeout_ms\u001b[0m\u001b[0;34m=\u001b[0m\u001b[0;36m120000\u001b[0m\u001b[0;34m,\u001b[0m \u001b[0mreadonly\u001b[0m\u001b[0;34m=\u001b[0m\u001b[0;32mFalse\u001b[0m\u001b[0;34m)\u001b[0m\u001b[0;34m:\u001b[0m\u001b[0;34m\u001b[0m\u001b[0;34m\u001b[0m\u001b[0m\n\u001b[1;32m     99\u001b[0m   \u001b[0;34m\"\"\"Mount your Google Drive at the specified mountpoint path.\"\"\"\u001b[0m\u001b[0;34m\u001b[0m\u001b[0;34m\u001b[0m\u001b[0m\n\u001b[0;32m--> 100\u001b[0;31m   return _mount(\n\u001b[0m\u001b[1;32m    101\u001b[0m       \u001b[0mmountpoint\u001b[0m\u001b[0;34m,\u001b[0m\u001b[0;34m\u001b[0m\u001b[0;34m\u001b[0m\u001b[0m\n\u001b[1;32m    102\u001b[0m       \u001b[0mforce_remount\u001b[0m\u001b[0;34m=\u001b[0m\u001b[0mforce_remount\u001b[0m\u001b[0;34m,\u001b[0m\u001b[0;34m\u001b[0m\u001b[0;34m\u001b[0m\u001b[0m\n",
            "\u001b[0;32m/usr/local/lib/python3.10/dist-packages/google/colab/drive.py\u001b[0m in \u001b[0;36m_mount\u001b[0;34m(mountpoint, force_remount, timeout_ms, ephemeral, readonly)\u001b[0m\n\u001b[1;32m    135\u001b[0m   )\n\u001b[1;32m    136\u001b[0m   \u001b[0;32mif\u001b[0m \u001b[0mephemeral\u001b[0m\u001b[0;34m:\u001b[0m\u001b[0;34m\u001b[0m\u001b[0;34m\u001b[0m\u001b[0m\n\u001b[0;32m--> 137\u001b[0;31m     _message.blocking_request(\n\u001b[0m\u001b[1;32m    138\u001b[0m         \u001b[0;34m'request_auth'\u001b[0m\u001b[0;34m,\u001b[0m\u001b[0;34m\u001b[0m\u001b[0;34m\u001b[0m\u001b[0m\n\u001b[1;32m    139\u001b[0m         \u001b[0mrequest\u001b[0m\u001b[0;34m=\u001b[0m\u001b[0;34m{\u001b[0m\u001b[0;34m'authType'\u001b[0m\u001b[0;34m:\u001b[0m \u001b[0;34m'dfs_ephemeral'\u001b[0m\u001b[0;34m}\u001b[0m\u001b[0;34m,\u001b[0m\u001b[0;34m\u001b[0m\u001b[0;34m\u001b[0m\u001b[0m\n",
            "\u001b[0;32m/usr/local/lib/python3.10/dist-packages/google/colab/_message.py\u001b[0m in \u001b[0;36mblocking_request\u001b[0;34m(request_type, request, timeout_sec, parent)\u001b[0m\n\u001b[1;32m    174\u001b[0m       \u001b[0mrequest_type\u001b[0m\u001b[0;34m,\u001b[0m \u001b[0mrequest\u001b[0m\u001b[0;34m,\u001b[0m \u001b[0mparent\u001b[0m\u001b[0;34m=\u001b[0m\u001b[0mparent\u001b[0m\u001b[0;34m,\u001b[0m \u001b[0mexpect_reply\u001b[0m\u001b[0;34m=\u001b[0m\u001b[0;32mTrue\u001b[0m\u001b[0;34m\u001b[0m\u001b[0;34m\u001b[0m\u001b[0m\n\u001b[1;32m    175\u001b[0m   )\n\u001b[0;32m--> 176\u001b[0;31m   \u001b[0;32mreturn\u001b[0m \u001b[0mread_reply_from_input\u001b[0m\u001b[0;34m(\u001b[0m\u001b[0mrequest_id\u001b[0m\u001b[0;34m,\u001b[0m \u001b[0mtimeout_sec\u001b[0m\u001b[0;34m)\u001b[0m\u001b[0;34m\u001b[0m\u001b[0;34m\u001b[0m\u001b[0m\n\u001b[0m",
            "\u001b[0;32m/usr/local/lib/python3.10/dist-packages/google/colab/_message.py\u001b[0m in \u001b[0;36mread_reply_from_input\u001b[0;34m(message_id, timeout_sec)\u001b[0m\n\u001b[1;32m    101\u001b[0m     ):\n\u001b[1;32m    102\u001b[0m       \u001b[0;32mif\u001b[0m \u001b[0;34m'error'\u001b[0m \u001b[0;32min\u001b[0m \u001b[0mreply\u001b[0m\u001b[0;34m:\u001b[0m\u001b[0;34m\u001b[0m\u001b[0;34m\u001b[0m\u001b[0m\n\u001b[0;32m--> 103\u001b[0;31m         \u001b[0;32mraise\u001b[0m \u001b[0mMessageError\u001b[0m\u001b[0;34m(\u001b[0m\u001b[0mreply\u001b[0m\u001b[0;34m[\u001b[0m\u001b[0;34m'error'\u001b[0m\u001b[0;34m]\u001b[0m\u001b[0;34m)\u001b[0m\u001b[0;34m\u001b[0m\u001b[0;34m\u001b[0m\u001b[0m\n\u001b[0m\u001b[1;32m    104\u001b[0m       \u001b[0;32mreturn\u001b[0m \u001b[0mreply\u001b[0m\u001b[0;34m.\u001b[0m\u001b[0mget\u001b[0m\u001b[0;34m(\u001b[0m\u001b[0;34m'data'\u001b[0m\u001b[0;34m,\u001b[0m \u001b[0;32mNone\u001b[0m\u001b[0;34m)\u001b[0m\u001b[0;34m\u001b[0m\u001b[0;34m\u001b[0m\u001b[0m\n\u001b[1;32m    105\u001b[0m \u001b[0;34m\u001b[0m\u001b[0m\n",
            "\u001b[0;31mMessageError\u001b[0m: Error: credential propagation was unsuccessful"
          ]
        }
      ]
    },
    {
      "cell_type": "code",
      "source": [
        "import nltk\n",
        "nltk.download(['stopwords', 'punkt_tab'])\n",
        "\n",
        "# Headers are stopwords used to break up the executive summaries, making them easier to read. Because of this, these words appear more frequently in the corpus, so we will be removing them <3\n",
        "# Headers include: \"What happened\", \"Why it happened\", \"What we can learn\", \"Who may benefit\"\n",
        "# &\n",
        "# ['Transport', 'Accident', 'Investigation', 'Commission'] (see below the plot)\n",
        "\n",
        "headers = ['what', 'happened', 'why', 'it', 'we', 'can', 'learn', 'who', 'may', 'benefit', 'Transport', 'Accident', 'Investigation', 'Commission']"
      ],
      "metadata": {
        "colab": {
          "base_uri": "https://localhost:8080/"
        },
        "id": "3c1dv9b-uR3_",
        "outputId": "b05fc27d-3713-402b-d70e-f413afde1976"
      },
      "execution_count": null,
      "outputs": [
        {
          "output_type": "stream",
          "name": "stderr",
          "text": [
            "[nltk_data] Downloading package stopwords to /root/nltk_data...\n",
            "[nltk_data]   Unzipping corpora/stopwords.zip.\n",
            "[nltk_data] Downloading package punkt_tab to /root/nltk_data...\n",
            "[nltk_data]   Unzipping tokenizers/punkt_tab.zip.\n"
          ]
        }
      ]
    },
    {
      "cell_type": "code",
      "source": [
        "import os\n",
        "\n",
        "taic = dict() # taic dictionary\n",
        "c = [] # corpus list\n",
        "rc = [] # raw corpus list\n",
        "for root, dirs, files in os.walk(\"/content/drive/MyDrive/UNIVERSITY/LING229/P1/taic-reports\"): #replace filepath with path to taic-reports\n",
        "  for file in files:\n",
        "    with open(os.path.join(root, file), 'r') as f:\n",
        "      key = file[:11] #investigation ID\n",
        "      text = f.read()\n",
        "      clean_text = ' '.join([token for token in nltk.word_tokenize(text) if (token.lower() not in nltk.corpus.stopwords.words('english')) and token.isalpha()]) # Clean out stopwords, punctuation and numbers\n",
        "      cleaner_text = ' '.join([token for token in nltk.word_tokenize(clean_text) if (token.lower() not in headers)]) # Ran separately in case of future tamperings; Clean out self-defined stopwords\n",
        "      taic[key] = {'id': key, 'text': cleaner_text, 'r_text': text}\n",
        "      for key in taic.keys():\n",
        "       c.append(taic[key]['text'])\n",
        "       rc.append(taic[key]['r_text'])\n",
        "      corpus = ' '.join(c)\n",
        "      rcorpus = ' '.join(rc)\n",
        "\n",
        "taic['corpus'] = {'id': 'corpus', 'text': corpus, 'r_text': rcorpus} # adds the corpus as a dictionary entry"
      ],
      "metadata": {
        "id": "Z9XxjuE8F4zN",
        "colab": {
          "base_uri": "https://localhost:8080/",
          "height": 180
        },
        "outputId": "ec507bd7-b92b-4cd0-f5ca-2d1ade6ec25c"
      },
      "execution_count": null,
      "outputs": [
        {
          "output_type": "error",
          "ename": "NameError",
          "evalue": "name 'corpus' is not defined",
          "traceback": [
            "\u001b[0;31m---------------------------------------------------------------------------\u001b[0m",
            "\u001b[0;31mNameError\u001b[0m                                 Traceback (most recent call last)",
            "\u001b[0;32m<ipython-input-2-5ed835788763>\u001b[0m in \u001b[0;36m<cell line: 20>\u001b[0;34m()\u001b[0m\n\u001b[1;32m     18\u001b[0m       \u001b[0mrcorpus\u001b[0m \u001b[0;34m=\u001b[0m \u001b[0;34m' '\u001b[0m\u001b[0;34m.\u001b[0m\u001b[0mjoin\u001b[0m\u001b[0;34m(\u001b[0m\u001b[0mrc\u001b[0m\u001b[0;34m)\u001b[0m\u001b[0;34m\u001b[0m\u001b[0;34m\u001b[0m\u001b[0m\n\u001b[1;32m     19\u001b[0m \u001b[0;34m\u001b[0m\u001b[0m\n\u001b[0;32m---> 20\u001b[0;31m \u001b[0mtaic\u001b[0m\u001b[0;34m[\u001b[0m\u001b[0;34m'corpus'\u001b[0m\u001b[0;34m]\u001b[0m \u001b[0;34m=\u001b[0m \u001b[0;34m{\u001b[0m\u001b[0;34m'id'\u001b[0m\u001b[0;34m:\u001b[0m \u001b[0;34m'corpus'\u001b[0m\u001b[0;34m,\u001b[0m \u001b[0;34m'text'\u001b[0m\u001b[0;34m:\u001b[0m \u001b[0mcorpus\u001b[0m\u001b[0;34m,\u001b[0m \u001b[0;34m'r_text'\u001b[0m\u001b[0;34m:\u001b[0m \u001b[0mrcorpus\u001b[0m\u001b[0;34m}\u001b[0m \u001b[0;31m# adds the corpus as a dictionary entry\u001b[0m\u001b[0;34m\u001b[0m\u001b[0;34m\u001b[0m\u001b[0m\n\u001b[0m",
            "\u001b[0;31mNameError\u001b[0m: name 'corpus' is not defined"
          ]
        }
      ]
    },
    {
      "cell_type": "markdown",
      "source": [
        "'taic' Dictionary Legend:\n",
        "\n",
        "    text files : filename\n",
        "    {\n",
        "    id:       filename\n",
        "    text:     tokenised text\n",
        "    rtext:    raw text\n",
        "    total_tokens:     total tokens (without stopwords)\n",
        "    total_types:      total types (without stopwords)\n",
        "    ttr:              lexical diversity (total_types/total_tokens) as %\n",
        "    }\n",
        "    average_tokens:   average tokens (without stopwords)\n",
        "    average_types:    average types (without stopwords)\n",
        "    average_ttr:      average lexical diversity (average_types/average_tokens) as %\n",
        "**There is some amount of 'junk' data in the dictionary, I just want to capture as much as I can in case it is needed down the line  <|:-)"
      ],
      "metadata": {
        "id": "KseWxaFNVF3t"
      }
    },
    {
      "cell_type": "markdown",
      "source": [
        "# Metrics, Lexical Diversity and Averages\n"
      ],
      "metadata": {
        "id": "Us7bIQ1pLQBY"
      }
    },
    {
      "cell_type": "code",
      "source": [
        "# Set the metrics - total tokens and total types - of a dictionary's text\n",
        "\n",
        "def metrics(dct): #needs to be passed a dict\n",
        "  dct['total_tokens'] = len(dct['text'].split())  #total tokens (without stopwords)\n",
        "  dct['total_types'] = len(set(dct['text'].split()))  #total types (without stopwords)"
      ],
      "metadata": {
        "id": "0sRdfODmfmhD"
      },
      "execution_count": null,
      "outputs": []
    },
    {
      "cell_type": "code",
      "source": [
        "# Calculate the lexical diversity of a dictionary's text\n",
        "\n",
        "def lexical_diversity(dct):\n",
        "  ttr = len(set(nltk.word_tokenize(dct['text']))) / len(nltk.word_tokenize(dct['text']))\n",
        "  dct['ttr'] = round(ttr, 4) * 100"
      ],
      "metadata": {
        "id": "CknHUUkuMS0H"
      },
      "execution_count": null,
      "outputs": []
    },
    {
      "cell_type": "code",
      "source": [
        "# Returns the token and type counts, and lexical diversity of the texts\n",
        "\n",
        "for key in taic.keys():\n",
        "  text = taic[key]\n",
        "\n",
        "  metrics(text)\n",
        "  lexical_diversity(text)\n",
        "\n",
        "  name = text['id']\n",
        "  tokens = text['total_tokens']\n",
        "  types = text['total_types']\n",
        "\n",
        "  text['ttr'] = round(text['ttr'], 2)\n",
        "  ttr = text['ttr']\n",
        "  print(f'{name} has {tokens} tokens and {types} types, and a lexical diversity of {ttr}%.')"
      ],
      "metadata": {
        "id": "oTHwWSBCOdBC",
        "collapsed": true,
        "colab": {
          "base_uri": "https://localhost:8080/"
        },
        "outputId": "e9f33536-9bf3-478b-d4fa-355247680126"
      },
      "execution_count": null,
      "outputs": [
        {
          "output_type": "stream",
          "name": "stdout",
          "text": [
            "RO_2008_106 has 350 tokens and 244 types, and a lexical diversity of 69.71%.\n",
            "RO_2008_107 has 323 tokens and 208 types, and a lexical diversity of 64.4%.\n",
            "RO_2008_108 has 127 tokens and 102 types, and a lexical diversity of 80.31%.\n",
            "RO_2008_109 has 267 tokens and 140 types, and a lexical diversity of 52.43%.\n",
            "RO_2008_110 has 218 tokens and 148 types, and a lexical diversity of 67.89%.\n",
            "RO_2008_111 has 121 tokens and 101 types, and a lexical diversity of 83.47%.\n",
            "RO_2008_112 has 104 tokens and 77 types, and a lexical diversity of 74.04%.\n",
            "RO_2008_113 has 59 tokens and 50 types, and a lexical diversity of 84.75%.\n",
            "RO_2009_101 has 148 tokens and 106 types, and a lexical diversity of 71.62%.\n",
            "RO_2009_102 has 184 tokens and 131 types, and a lexical diversity of 71.2%.\n",
            "RO_2009_103 has 350 tokens and 244 types, and a lexical diversity of 69.71%.\n",
            "RO_2010_101 has 557 tokens and 299 types, and a lexical diversity of 53.68%.\n",
            "RO_2010_102 has 401 tokens and 240 types, and a lexical diversity of 59.85%.\n",
            "RO_2011_101 has 289 tokens and 177 types, and a lexical diversity of 61.25%.\n",
            "RO_2011_102 has 399 tokens and 240 types, and a lexical diversity of 60.15%.\n",
            "RO_2011_103 has 287 tokens and 187 types, and a lexical diversity of 65.16%.\n",
            "RO_2011_104 has 296 tokens and 167 types, and a lexical diversity of 56.42%.\n",
            "RO_2011_105 has 309 tokens and 186 types, and a lexical diversity of 60.19%.\n",
            "RO_2011_106 has 464 tokens and 248 types, and a lexical diversity of 53.45%.\n",
            "RO_2012_101 has 201 tokens and 127 types, and a lexical diversity of 63.18%.\n",
            "RO_2012_102 has 291 tokens and 173 types, and a lexical diversity of 59.45%.\n",
            "RO_2012_103 has 202 tokens and 135 types, and a lexical diversity of 66.83%.\n",
            "RO_2012_104 has 309 tokens and 173 types, and a lexical diversity of 55.99%.\n",
            "RO_2012_105 has 270 tokens and 172 types, and a lexical diversity of 63.7%.\n",
            "RO_2013_101 has 182 tokens and 135 types, and a lexical diversity of 74.18%.\n",
            "RO_2013_102 has 261 tokens and 170 types, and a lexical diversity of 65.13%.\n",
            "RO_2013_103 has 458 tokens and 261 types, and a lexical diversity of 56.99%.\n",
            "RO_2013_104 has 174 tokens and 126 types, and a lexical diversity of 72.41%.\n",
            "RO_2013_105 has 209 tokens and 131 types, and a lexical diversity of 62.68%.\n",
            "RO_2013_106 has 291 tokens and 178 types, and a lexical diversity of 61.17%.\n",
            "RO_2013_107 has 194 tokens and 143 types, and a lexical diversity of 73.71%.\n",
            "RO_2013_108 has 332 tokens and 169 types, and a lexical diversity of 50.9%.\n",
            "RO_2014_101 has 302 tokens and 181 types, and a lexical diversity of 59.93%.\n",
            "RO_2014_102 has 249 tokens and 160 types, and a lexical diversity of 64.26%.\n",
            "RO_2014_103 has 458 tokens and 261 types, and a lexical diversity of 56.99%.\n",
            "RO_2014_104 has 165 tokens and 114 types, and a lexical diversity of 69.09%.\n",
            "RO_2014_105 has 280 tokens and 171 types, and a lexical diversity of 61.07%.\n",
            "RO_2015_101 has 258 tokens and 159 types, and a lexical diversity of 61.63%.\n",
            "RO_2015_102 has 291 tokens and 198 types, and a lexical diversity of 68.04%.\n",
            "RO_2015_103 has 230 tokens and 144 types, and a lexical diversity of 62.61%.\n",
            "RO_2016_101 has 276 tokens and 174 types, and a lexical diversity of 63.04%.\n",
            "RO_2016_102 has 284 tokens and 158 types, and a lexical diversity of 55.63%.\n",
            "RO_2017_101 has 325 tokens and 219 types, and a lexical diversity of 67.38%.\n",
            "RO_2017_102 has 297 tokens and 168 types, and a lexical diversity of 56.57%.\n",
            "RO_2017_103 has 246 tokens and 147 types, and a lexical diversity of 59.76%.\n",
            "RO_2017_104 has 175 tokens and 123 types, and a lexical diversity of 70.29%.\n",
            "RO_2017_105 has 284 tokens and 157 types, and a lexical diversity of 55.28%.\n",
            "RO_2017_106 has 205 tokens and 132 types, and a lexical diversity of 64.39%.\n",
            "RO_2018_101 has 125 tokens and 95 types, and a lexical diversity of 76.0%.\n",
            "RO_2018_102 has 240 tokens and 161 types, and a lexical diversity of 67.08%.\n",
            "RO_2019_101 has 221 tokens and 125 types, and a lexical diversity of 56.56%.\n",
            "RO_2019_102 has 196 tokens and 144 types, and a lexical diversity of 73.47%.\n",
            "RO_2019_103 has 220 tokens and 158 types, and a lexical diversity of 71.82%.\n",
            "RO_2019_104 has 356 tokens and 205 types, and a lexical diversity of 57.58%.\n",
            "RO_2019_105 has 169 tokens and 131 types, and a lexical diversity of 77.51%.\n",
            "RO_2019_106 has 147 tokens and 106 types, and a lexical diversity of 72.11%.\n",
            "RO_2019_107 has 176 tokens and 126 types, and a lexical diversity of 71.59%.\n",
            "RO_2019_108 has 37 tokens and 31 types, and a lexical diversity of 83.78%.\n",
            "RO_2020_101 has 203 tokens and 131 types, and a lexical diversity of 64.53%.\n",
            "RO_2020_102 has 150 tokens and 100 types, and a lexical diversity of 66.67%.\n",
            "RO_2020_103 has 272 tokens and 160 types, and a lexical diversity of 58.82%.\n",
            "RO_2020_104 has 169 tokens and 110 types, and a lexical diversity of 65.09%.\n",
            "RO_2021_101 has 170 tokens and 116 types, and a lexical diversity of 68.24%.\n",
            "RO_2021_102 has 290 tokens and 182 types, and a lexical diversity of 62.76%.\n",
            "RO_2021_103 has 249 tokens and 177 types, and a lexical diversity of 71.08%.\n",
            "RO_2021_104 has 185 tokens and 139 types, and a lexical diversity of 75.14%.\n",
            "RO_2021_105 has 175 tokens and 122 types, and a lexical diversity of 69.71%.\n",
            "RO_2021_106 has 156 tokens and 115 types, and a lexical diversity of 73.72%.\n",
            "RO_2022_101 has 148 tokens and 102 types, and a lexical diversity of 68.92%.\n",
            "RO_2022_102 has 331 tokens and 224 types, and a lexical diversity of 67.67%.\n",
            "RO_2022_103 has 250 tokens and 169 types, and a lexical diversity of 67.6%.\n",
            "RO_2022_104 has 252 tokens and 172 types, and a lexical diversity of 68.25%.\n",
            "RO_2023_101 has 241 tokens and 171 types, and a lexical diversity of 70.95%.\n",
            "RO_2023_102 has 273 tokens and 194 types, and a lexical diversity of 71.06%.\n",
            "RO_2023_103 has 238 tokens and 139 types, and a lexical diversity of 58.4%.\n",
            "RO_2023_104 has 199 tokens and 124 types, and a lexical diversity of 62.31%.\n",
            "corpus has 758275 tokens and 3116 types, and a lexical diversity of 0.41%.\n"
          ]
        }
      ]
    },
    {
      "cell_type": "code",
      "source": [
        "# Sets the average token, type, and lexical diversity of the texts\n",
        "\n",
        "def averages(dct):\n",
        "\n",
        "  tokens = []\n",
        "  types = []\n",
        "  ttr = []\n",
        "\n",
        "  for key in dct.keys():\n",
        "    if(str(text)!='corpus'):\n",
        "      to = len(dct[key]['text'].split())\n",
        "      ty = len(set(dct[key]['text'].split()))\n",
        "      tt = ty/to\n",
        "\n",
        "    tokens.append(to)\n",
        "    types.append(ty)\n",
        "    ttr.append(tt)\n",
        "\n",
        "  avg_tok = round((sum(tokens))/(len(tokens)), 2)\n",
        "  avg_typ = round((sum(types))/(len(types)), 2)\n",
        "  avg_ttr = round((sum(ttr))/(len(ttr)), 4)\n",
        "\n",
        "\n",
        "  taic['average_tokens'] = avg_tok\n",
        "  taic['average_types'] = avg_typ\n",
        "  taic['average_ttr'] = avg_ttr * 100"
      ],
      "metadata": {
        "id": "5fpGoGz39EtU"
      },
      "execution_count": null,
      "outputs": []
    },
    {
      "cell_type": "code",
      "source": [
        "averages(taic) #sit back and relax, she takes her time\n",
        "\n",
        "tokens = taic['average_tokens']\n",
        "types = taic['average_types']\n",
        "ttr = taic['average_ttr']\n",
        "\n",
        "print(f'Across the TAIC investigation executive summaries from 01-07-2008 to present there are an average number of {types} types and {tokens} tokens, and an average lexical diversity of {ttr}%.')\n",
        "\n",
        "# Please please please do not run this twice"
      ],
      "metadata": {
        "colab": {
          "base_uri": "https://localhost:8080/"
        },
        "id": "-8qtJKExyfvg",
        "outputId": "4ed6c95e-2312-4fde-b66f-81e7ae6b482b"
      },
      "execution_count": null,
      "outputs": [
        {
          "output_type": "stream",
          "name": "stdout",
          "text": [
            "Across the TAIC investigation executive summaries from 01-07-2008 to present there are an average number of 196.09 types and 10091.75 tokens, and an average lexical diversity of 64.95%.\n"
          ]
        }
      ]
    },
    {
      "cell_type": "markdown",
      "source": [
        "# Frequency\n",
        "\n",
        "* Jank fix: please rerun the `import os` block again if there are any problems\n",
        "* There was a function `load_corpus()` to make this easier, but it makes the stack mad"
      ],
      "metadata": {
        "id": "g_qgHgOP-HnK"
      }
    },
    {
      "cell_type": "code",
      "source": [
        "taic_fdist = nltk.FreqDist(nltk.word_tokenize(taic['corpus']['text'])) # Create a frequency distribution of the TAIC corpus"
      ],
      "metadata": {
        "id": "i7ZEcO2CdyuW",
        "outputId": "08ba7607-c078-4bb0-b0d0-9bc61485ca83",
        "colab": {
          "base_uri": "https://localhost:8080/",
          "height": 145
        }
      },
      "execution_count": null,
      "outputs": [
        {
          "output_type": "error",
          "ename": "NameError",
          "evalue": "name 'nltk' is not defined",
          "traceback": [
            "\u001b[0;31m---------------------------------------------------------------------------\u001b[0m",
            "\u001b[0;31mNameError\u001b[0m                                 Traceback (most recent call last)",
            "\u001b[0;32m<ipython-input-1-05a9d1827b38>\u001b[0m in \u001b[0;36m<cell line: 1>\u001b[0;34m()\u001b[0m\n\u001b[0;32m----> 1\u001b[0;31m \u001b[0mtaic_fdist\u001b[0m \u001b[0;34m=\u001b[0m \u001b[0mnltk\u001b[0m\u001b[0;34m.\u001b[0m\u001b[0mFreqDist\u001b[0m\u001b[0;34m(\u001b[0m\u001b[0mnltk\u001b[0m\u001b[0;34m.\u001b[0m\u001b[0mword_tokenize\u001b[0m\u001b[0;34m(\u001b[0m\u001b[0mtaic\u001b[0m\u001b[0;34m[\u001b[0m\u001b[0;34m'corpus'\u001b[0m\u001b[0;34m]\u001b[0m\u001b[0;34m[\u001b[0m\u001b[0;34m'text'\u001b[0m\u001b[0;34m]\u001b[0m\u001b[0;34m)\u001b[0m\u001b[0;34m)\u001b[0m \u001b[0;31m# Create a frequency distribution of the TAIC corpus\u001b[0m\u001b[0;34m\u001b[0m\u001b[0;34m\u001b[0m\u001b[0m\n\u001b[0m",
            "\u001b[0;31mNameError\u001b[0m: name 'nltk' is not defined"
          ]
        }
      ]
    },
    {
      "cell_type": "code",
      "source": [
        "taic_fdist.hapaxes() # One is the loneliest number"
      ],
      "metadata": {
        "colab": {
          "base_uri": "https://localhost:8080/"
        },
        "id": "3DyivKC_vM69",
        "outputId": "45674407-1e51-48b5-a532-22f95af97334"
      },
      "execution_count": null,
      "outputs": [
        {
          "output_type": "execute_result",
          "data": {
            "text/plain": [
              "['regional',\n",
              " 'named',\n",
              " 'damaging',\n",
              " 'sequence',\n",
              " 'alerting',\n",
              " 'lengthy',\n",
              " 'interpreted',\n",
              " 'Compliance',\n",
              " 'assure',\n",
              " 'planners',\n",
              " 'auditing']"
            ]
          },
          "metadata": {},
          "execution_count": 166
        }
      ]
    },
    {
      "cell_type": "markdown",
      "source": [
        "The only hapaxes in the corpus are ['regional', 'named', 'damaging', 'sequence', 'alerting', 'lengthy', 'interpreted', 'Compliance', 'assure', 'planners', 'auditing']. I assumed there would be more, given the size of the corpus, but this supports the idea that the longer it is the more words will repeat. This is further supported as I would expect there would be guidelines of approved vocab in executive summaries."
      ],
      "metadata": {
        "id": "Ot6LecwkeGD2"
      }
    },
    {
      "cell_type": "code",
      "source": [
        "# Plot frequency distribution of all words that appear in the corpus more than 1250 times\n",
        "# Displays shy of 100 words (that's a lot of words)\n",
        "\n",
        "import matplotlib.pyplot as plt\n",
        "\n",
        "plt.figure(figsize = (20, 10))\n",
        "\n",
        "low_freq = set([word for word in nltk.word_tokenize(taic['corpus']['text']) if taic_fdist[word] < 1250])\n",
        "for word in low_freq:\n",
        "  del taic_fdist[word]\n",
        "taic_fdist.plot()"
      ],
      "metadata": {
        "colab": {
          "base_uri": "https://localhost:8080/",
          "height": 979
        },
        "collapsed": true,
        "id": "5RWC0DMeQKzQ",
        "outputId": "fdfbcbaf-9e2c-442d-ffa6-18ddbf058af5"
      },
      "execution_count": null,
      "outputs": [
        {
          "output_type": "execute_result",
          "data": {
            "text/plain": [
              "<Axes: xlabel='Samples', ylabel='Counts'>"
            ]
          },
          "metadata": {},
          "execution_count": 167
        },
        {
          "output_type": "display_data",
          "data": {
            "text/plain": [
              "<Figure size 2000x1000 with 1 Axes>"
            ],
            "image/png": "[encoded data removed]"
          },
          "metadata": {}
        }
      ]
    },
    {
      "cell_type": "markdown",
      "source": [
        "* The Preprocessing Talk\n",
        "\n",
        "The frequency distribution doesn't quite follow Zipf's Law - though it does have its shape. Introducing further stopwords like ['Transport', 'Accident', 'Investigation', 'Commission'] should clean some of this up. (Note, this is done retroactively, T:4026 A:2303 I:2303 C:10416 appeared in the 50 most frequent words of the corpus).  \n",
        "\n",
        "I considered keeping numbers in the data set (for eg locomotive identification) but after removing non-alphanumeric punctuation nothing made sense without context, and you couldn't tell date from train from speed. Some date information is preserved in the filename, enough to use years as a predictor for trends in words. The raw text is also preserved just in case you do want those numbers.\n",
        "\n",
        "~~\n",
        "\n",
        "Wellington and Auckland appear in the most common words. This would be expected, as these are the capital, and largest population centre, so a higher rate of incidents is expected. We could use location as a category in future analysis to see what type of accidents areas are at risk of."
      ],
      "metadata": {
        "id": "-Iw7-3zjrl2N"
      }
    },
    {
      "cell_type": "code",
      "source": [
        "taic_fdist.most_common(50)"
      ],
      "metadata": {
        "colab": {
          "base_uri": "https://localhost:8080/"
        },
        "id": "5_abI83hRkE6",
        "outputId": "dd73d510-bfd2-4b73-d613-aa64ac53b140"
      },
      "execution_count": null,
      "outputs": [
        {
          "output_type": "execute_result",
          "data": {
            "text/plain": [
              "[('train', 34601),\n",
              " ('Commission', 10416),\n",
              " ('track', 10290),\n",
              " ('rail', 6740),\n",
              " ('driver', 6475),\n",
              " ('passenger', 6151),\n",
              " ('safety', 6139),\n",
              " ('KiwiRail', 5466),\n",
              " ('trains', 4585),\n",
              " ('work', 4473),\n",
              " ('control', 4351),\n",
              " ('level', 4276),\n",
              " ('made', 4101),\n",
              " ('Transport', 4026),\n",
              " ('controller', 3919),\n",
              " ('area', 3867),\n",
              " ('line', 3710),\n",
              " ('incident', 3429),\n",
              " ('stop', 3408),\n",
              " ('crossing', 3276),\n",
              " ('risk', 3242),\n",
              " ('found', 3221),\n",
              " ('system', 3087),\n",
              " ('signal', 2961),\n",
              " ('issues', 2947),\n",
              " ('recommendations', 2836),\n",
              " ('time', 2701),\n",
              " ('Wellington', 2693),\n",
              " ('one', 2645),\n",
              " ('maintenance', 2635),\n",
              " ('travelling', 2573),\n",
              " ('locomotive', 2487),\n",
              " ('Station', 2468),\n",
              " ('must', 2450),\n",
              " ('passengers', 2389),\n",
              " ('Train', 2354),\n",
              " ('Accident', 2303),\n",
              " ('Investigation', 2303),\n",
              " ('systems', 2300),\n",
              " ('inquiry', 2253),\n",
              " ('set', 2228),\n",
              " ('also', 2196),\n",
              " ('station', 2163),\n",
              " ('report', 2139),\n",
              " ('identified', 2089),\n",
              " ('stopped', 2079),\n",
              " ('protection', 2051),\n",
              " ('Auckland', 2022),\n",
              " ('drivers', 1920),\n",
              " ('ensure', 1917)]"
            ]
          },
          "metadata": {},
          "execution_count": 148
        }
      ]
    },
    {
      "cell_type": "code",
      "source": [
        "# Prints the 10 most frequent words of each report, and the entire corpus\n",
        "\n",
        "for key in taic.keys():\n",
        "  text = taic[key]\n",
        "  text['ten_most_frequent'] = nltk.FreqDist(nltk.word_tokenize(text['text'])).most_common(10)\n",
        "\n",
        "  name = text['id']\n",
        "  most_freq = text['ten_most_frequent']\n",
        "  print(f'The most frequent words in {name} are {most_freq}')"
      ],
      "metadata": {
        "id": "nAbvV7jYJv2k",
        "colab": {
          "base_uri": "https://localhost:8080/"
        },
        "collapsed": true,
        "outputId": "7982d1dc-1d90-4245-94e2-e36d105210b9"
      },
      "execution_count": null,
      "outputs": [
        {
          "output_type": "stream",
          "name": "stdout",
          "text": [
            "The most frequent words in RO_2008_106 are [('train', 7), ('track', 7), ('passengers', 5), ('area', 5), ('severe', 5), ('weather', 5), ('carriages', 4), ('response', 4), ('landslide', 4), ('control', 4)]\n",
            "The most frequent words in RO_2008_107 are [('maintenance', 12), ('trains', 8), ('train', 7), ('depot', 6), ('rail', 5), ('safety', 5), ('KiwiRail', 5), ('passenger', 4), ('motors', 4), ('incidents', 4)]\n",
            "The most frequent words in RO_2008_108 are [('track', 5), ('warrant', 4), ('locomotive', 4), ('engineer', 4), ('Commission', 3), ('coal', 2), ('limit', 2), ('train', 2), ('operator', 2), ('authorised', 2)]\n",
            "The most frequent words in RO_2008_109 are [('level', 11), ('Fruitvale', 10), ('Road', 10), ('crossing', 10), ('platform', 7), ('train', 7), ('Train', 5), ('line', 5), ('Station', 5), ('passenger', 4)]\n",
            "The most frequent words in RO_2008_110 are [('train', 23), ('controller', 8), ('control', 6), ('second', 5), ('previous', 4), ('shift', 3), ('line', 3), ('failure', 3), ('fatigue', 3), ('recommendations', 3)]\n",
            "The most frequent words in RO_2008_111 are [('wagon', 5), ('track', 4), ('derailed', 3), ('train', 3), ('Commission', 3), ('LPG', 2), ('tanks', 2), ('speed', 2), ('derailment', 2), ('condition', 2)]\n",
            "The most frequent words in RO_2008_112 are [('Train', 7), ('wagons', 3), ('crossing', 3), ('locomotive', 3), ('train', 3), ('express', 2), ('freight', 2), ('fouling', 2), ('Midland', 2), ('Line', 2)]\n",
            "The most frequent words in RO_2008_113 are [('stop', 3), ('train', 3), ('locomotive', 3), ('block', 2), ('Britomart', 2), ('station', 2), ('December', 1), ('Train', 1), ('empty', 1), ('service', 1)]\n",
            "The most frequent words in RO_2009_101 are [('side', 12), ('frames', 7), ('frame', 5), ('failures', 4), ('derailments', 3), ('started', 3), ('cracks', 3), ('inspection', 3), ('bogie', 2), ('similar', 2)]\n",
            "The most frequent words in RO_2009_102 are [('platform', 8), ('station', 8), ('train', 7), ('passenger', 6), ('Newmarket', 6), ('West', 4), ('side', 3), ('gap', 3), ('Commission', 3), ('trend', 3)]\n",
            "The most frequent words in RO_2009_103 are [('train', 7), ('track', 7), ('passengers', 5), ('area', 5), ('severe', 5), ('weather', 5), ('carriages', 4), ('response', 4), ('landslide', 4), ('control', 4)]\n",
            "The most frequent words in RO_2010_101 are [('train', 33), ('signal', 16), ('passenger', 14), ('line', 12), ('Station', 11), ('rail', 10), ('Main', 10), ('Tamaki', 9), ('set', 9), ('driver', 8)]\n",
            "The most frequent words in RO_2010_102 are [('train', 12), ('landslide', 9), ('made', 8), ('area', 7), ('Wellington', 6), ('track', 6), ('travelling', 5), ('trains', 5), ('line', 4), ('brake', 4)]\n",
            "The most frequent words in RO_2011_101 are [('train', 17), ('Papakura', 8), ('worksite', 7), ('stop', 6), ('Signal', 6), ('signal', 5), ('signaller', 5), ('blocking', 5), ('track', 4), ('Wiri', 4)]\n",
            "The most frequent words in RO_2011_102 are [('train', 30), ('controller', 10), ('must', 8), ('control', 7), ('risk', 7), ('coal', 6), ('track', 6), ('controllers', 5), ('function', 5), ('rail', 4)]\n",
            "The most frequent words in RO_2011_103 are [('track', 12), ('work', 11), ('workers', 8), ('train', 5), ('plan', 5), ('alcohol', 5), ('rail', 5), ('passenger', 4), ('person', 4), ('clear', 4)]\n",
            "The most frequent words in RO_2011_104 are [('road', 13), ('bus', 12), ('level', 11), ('train', 8), ('crossing', 7), ('vehicles', 7), ('Transport', 5), ('Commission', 5), ('intersection', 4), ('driver', 4)]\n",
            "The most frequent words in RO_2011_105 are [('train', 21), ('work', 10), ('track', 10), ('controller', 8), ('closed', 5), ('KiwiRail', 5), ('rail', 4), ('Westfield', 4), ('northbound', 4), ('control', 4)]\n",
            "The most frequent words in RO_2011_106 are [('train', 42), ('track', 13), ('controller', 13), ('passenger', 12), ('incident', 9), ('Commission', 6), ('controllers', 6), ('level', 5), ('scheduled', 5), ('safety', 5)]\n",
            "The most frequent words in RO_2012_101 are [('wagon', 8), ('load', 8), ('train', 8), ('Code', 5), ('stationary', 4), ('KiwiRail', 4), ('Freight', 4), ('Handling', 4), ('Commission', 4), ('freight', 3)]\n",
            "The most frequent words in RO_2012_102 are [('control', 11), ('train', 10), ('power', 10), ('Auckland', 8), ('services', 6), ('four', 5), ('workstations', 5), ('safety', 5), ('core', 5), ('metropolitan', 4)]\n",
            "The most frequent words in RO_2012_103 are [('wagon', 7), ('track', 7), ('KiwiRail', 6), ('derailment', 6), ('train', 5), ('defects', 5), ('Maewa', 4), ('Commission', 4), ('wagons', 3), ('derailed', 3)]\n",
            "The most frequent words in RO_2012_104 are [('train', 16), ('track', 12), ('warrant', 9), ('driver', 9), ('Commission', 7), ('Parikawa', 6), ('Pines', 5), ('health', 5), ('southbound', 4), ('vehicle', 4)]\n",
            "The most frequent words in RO_2012_105 are [('train', 28), ('driver', 8), ('route', 7), ('Manukau', 5), ('Commission', 5), ('set', 4), ('Wiri', 4), ('Junction', 4), ('Station', 3), ('wrong', 3)]\n",
            "The most frequent words in RO_2013_101 are [('train', 13), ('wagons', 5), ('brake', 4), ('Commission', 4), ('three', 3), ('departed', 3), ('Glenbrook', 3), ('properly', 3), ('KiwiRail', 2), ('locomotives', 2)]\n",
            "The most frequent words in RO_2013_102 are [('train', 21), ('passenger', 6), ('driver', 6), ('manager', 5), ('light', 5), ('trainee', 4), ('doors', 4), ('Tranz', 3), ('Metro', 3), ('Taita', 3)]\n",
            "The most frequent words in RO_2013_103 are [('train', 25), ('track', 9), ('conditions', 9), ('stop', 8), ('block', 8), ('trains', 8), ('systems', 8), ('Matangi', 7), ('slippery', 7), ('Commission', 7)]\n",
            "The most frequent words in RO_2013_104 are [('train', 6), ('maintenance', 6), ('Commission', 5), ('coach', 4), ('component', 4), ('passenger', 3), ('Wellington', 3), ('staff', 3), ('task', 3), ('instructions', 3)]\n",
            "The most frequent words in RO_2013_105 are [('train', 20), ('passenger', 7), ('mobility', 6), ('hoist', 6), ('manager', 5), ('door', 4), ('attendant', 4), ('exchange', 3), ('passengers', 3), ('luggage', 3)]\n",
            "The most frequent words in RO_2013_106 are [('train', 26), ('controller', 9), ('KiwiRail', 5), ('Commission', 5), ('incident', 5), ('control', 4), ('track', 4), ('fatigue', 4), ('passenger', 3), ('Otira', 3)]\n",
            "The most frequent words in RO_2013_107 are [('system', 6), ('train', 5), ('failed', 4), ('rail', 4), ('failure', 4), ('KiwiRail', 3), ('wagons', 3), ('wagon', 3), ('track', 3), ('also', 3)]\n",
            "The most frequent words in RO_2013_108 are [('train', 17), ('Commission', 14), ('KiwiRail', 7), ('passenger', 6), ('Signal', 6), ('Transport', 5), ('driver', 5), ('Wellington', 5), ('signal', 5), ('stop', 5)]\n",
            "The most frequent words in RO_2014_101 are [('level', 13), ('train', 12), ('truck', 11), ('crossing', 10), ('driver', 8), ('Te', 5), ('road', 5), ('safety', 5), ('Onetea', 4), ('Road', 4)]\n",
            "The most frequent words in RO_2014_102 are [('train', 19), ('passenger', 5), ('driver', 5), ('trains', 5), ('Commission', 5), ('signals', 4), ('route', 4), ('KiwiRail', 3), ('kilometres', 3), ('two', 3)]\n",
            "The most frequent words in RO_2014_103 are [('train', 25), ('track', 9), ('conditions', 9), ('stop', 8), ('block', 8), ('trains', 8), ('systems', 8), ('Matangi', 7), ('slippery', 7), ('Commission', 7)]\n",
            "The most frequent words in RO_2014_104 are [('work', 10), ('excavator', 8), ('track', 6), ('train', 6), ('area', 5), ('authorised', 4), ('driver', 4), ('protection', 3), ('Commission', 3), ('group', 2)]\n",
            "The most frequent words in RO_2014_105 are [('work', 11), ('rail', 10), ('track', 10), ('train', 7), ('protection', 7), ('worksite', 6), ('officer', 6), ('warrant', 5), ('Commission', 5), ('area', 4)]\n",
            "The most frequent words in RO_2015_101 are [('platform', 8), ('level', 8), ('train', 7), ('pedestrians', 6), ('Morningside', 5), ('rail', 5), ('pedestrian', 5), ('ramp', 4), ('crossing', 4), ('person', 4)]\n",
            "The most frequent words in RO_2015_102 are [('fire', 16), ('rail', 7), ('Commission', 5), ('cable', 5), ('locomotive', 4), ('ensure', 4), ('safety', 4), ('risk', 4), ('systems', 4), ('plug', 3)]\n",
            "The most frequent words in RO_2015_103 are [('workers', 8), ('train', 8), ('worksite', 7), ('rail', 7), ('protection', 7), ('officer', 7), ('safety', 5), ('Commission', 4), ('role', 4), ('track', 3)]\n",
            "The most frequent words in RO_2016_101 are [('train', 13), ('trains', 8), ('Wellington', 6), ('Station', 6), ('signal', 6), ('Red', 5), ('signals', 5), ('risk', 5), ('Upper', 4), ('Hutt', 4)]\n",
            "The most frequent words in RO_2016_102 are [('train', 25), ('Paerata', 9), ('driver', 6), ('pilot', 6), ('two', 5), ('controller', 5), ('line', 4), ('stalled', 4), ('set', 4), ('back', 4)]\n",
            "The most frequent words in RO_2017_101 are [('train', 11), ('driver', 7), ('stop', 6), ('system', 6), ('bridge', 5), ('boards', 5), ('worksite', 5), ('Commission', 5), ('safety', 5), ('KiwiRail', 4)]\n",
            "The most frequent words in RO_2017_102 are [('signallers', 8), ('track', 7), ('route', 7), ('shunt', 7), ('locomotive', 7), ('train', 7), ('signal', 6), ('points', 6), ('Commission', 6), ('box', 5)]\n",
            "The most frequent words in RO_2017_103 are [('train', 17), ('signaller', 8), ('signal', 7), ('Wellington', 5), ('Station', 5), ('driver', 5), ('Signal', 5), ('insulated', 5), ('joint', 5), ('safety', 4)]\n",
            "The most frequent words in RO_2017_104 are [('train', 12), ('emergency', 5), ('Commission', 5), ('Auckland', 4), ('one', 3), ('found', 3), ('response', 3), ('metropolitan', 2), ('passenger', 2), ('Transport', 2)]\n",
            "The most frequent words in RO_2017_105 are [('level', 14), ('truck', 11), ('road', 11), ('crossing', 7), ('Commission', 7), ('crossings', 7), ('users', 6), ('stop', 5), ('found', 5), ('rail', 5)]\n",
            "The most frequent words in RO_2017_106 are [('depot', 7), ('Invercargill', 6), ('rail', 5), ('maintenance', 5), ('Commission', 5), ('procedures', 5), ('locomotives', 4), ('compliance', 4), ('set', 3), ('work', 3)]\n",
            "The most frequent words in RO_2018_101 are [('train', 6), ('rail', 6), ('Commission', 5), ('points', 4), ('set', 3), ('found', 3), ('defect', 3), ('passenger', 2), ('passengers', 2), ('kilometres', 2)]\n",
            "The most frequent words in RO_2018_102 are [('train', 10), ('loop', 8), ('points', 6), ('set', 5), ('line', 5), ('track', 4), ('maintenance', 4), ('rail', 4), ('main', 4), ('driver', 4)]\n",
            "The most frequent words in RO_2019_101 are [('work', 12), ('technician', 10), ('rail', 8), ('protection', 8), ('signals', 7), ('officer', 6), ('protected', 5), ('area', 5), ('KiwiRail', 3), ('required', 3)]\n",
            "The most frequent words in RO_2019_102 are [('train', 5), ('track', 5), ('wagons', 4), ('KiwiRail', 4), ('crossing', 4), ('loop', 4), ('Commission', 4), ('speed', 4), ('derailment', 4), ('found', 3)]\n",
            "The most frequent words in RO_2019_103 are [('train', 15), ('Commission', 5), ('track', 5), ('line', 4), ('driver', 4), ('derailment', 4), ('travelling', 3), ('points', 3), ('speed', 3), ('power', 3)]\n",
            "The most frequent words in RO_2019_104 are [('work', 24), ('train', 11), ('protected', 9), ('area', 9), ('protection', 7), ('rail', 6), ('officer', 6), ('worksites', 5), ('workgroups', 5), ('site', 5)]\n",
            "The most frequent words in RO_2019_105 are [('train', 7), ('wagon', 5), ('track', 4), ('Wellington', 3), ('points', 3), ('derailment', 3), ('Commission', 3), ('loaded', 2), ('wagons', 2), ('travelling', 2)]\n",
            "The most frequent words in RO_2019_106 are [('train', 11), ('Main', 5), ('Line', 4), ('passengers', 4), ('Rolleston', 3), ('routed', 3), ('onto', 3), ('West', 3), ('East', 3), ('service', 2)]\n",
            "The most frequent words in RO_2019_107 are [('train', 8), ('Commission', 7), ('signal', 5), ('service', 4), ('Wellington', 4), ('driver', 3), ('stop', 3), ('recommendation', 3), ('Melling', 2), ('Railway', 2)]\n",
            "The most frequent words in RO_2019_108 are [('rail', 3), ('car', 2), ('level', 2), ('roadworks', 2), ('must', 2), ('Two', 1), ('people', 1), ('died', 1), ('freight', 1), ('train', 1)]\n",
            "The most frequent words in RO_2020_101 are [('truck', 15), ('level', 8), ('driver', 8), ('crossing', 7), ('train', 6), ('Road', 4), ('Mulcocks', 3), ('likely', 3), ('approached', 2), ('Waimakariri', 2)]\n",
            "The most frequent words in RO_2020_102 are [('track', 13), ('vehicle', 10), ('train', 9), ('warrant', 5), ('ganger', 4), ('driver', 3), ('conditional', 3), ('departure', 3), ('Train', 3), ('braking', 3)]\n",
            "The most frequent words in RO_2020_103 are [('bus', 15), ('level', 12), ('crossing', 10), ('driver', 6), ('Clevely', 6), ('Line', 6), ('locomotive', 5), ('Transport', 5), ('road', 5), ('Railway', 4)]\n",
            "The most frequent words in RO_2020_104 are [('rail', 8), ('track', 7), ('protection', 7), ('protected', 6), ('area', 6), ('vehicle', 6), ('train', 4), ('officer', 4), ('work', 4), ('section', 3)]\n",
            "The most frequent words in RO_2021_101 are [('wagons', 7), ('operator', 5), ('track', 5), ('outer', 4), ('two', 4), ('Commission', 4), ('remotely', 3), ('shunt', 3), ('locomotive', 3), ('rail', 3)]\n",
            "The most frequent words in RO_2021_102 are [('operator', 12), ('work', 10), ('truck', 10), ('driver', 9), ('crossing', 7), ('rail', 6), ('side', 5), ('enter', 4), ('KiwiRail', 4), ('Commission', 4)]\n",
            "The most frequent words in RO_2021_103 are [('train', 11), ('carriages', 5), ('coupler', 5), ('second', 4), ('kilometres', 4), ('brakes', 4), ('per', 3), ('hour', 3), ('Pukekohe', 3), ('park', 3)]\n",
            "The most frequent words in RO_2021_104 are [('train', 13), ('passenger', 4), ('landslide', 4), ('debris', 4), ('passengers', 3), ('rainfall', 3), ('driver', 3), ('transport', 3), ('infrastructure', 3), ('North', 2)]\n",
            "The most frequent words in RO_2021_105 are [('rail', 6), ('shunt', 5), ('locomotive', 4), ('operator', 4), ('linkspan', 4), ('unintended', 4), ('incident', 4), ('single', 3), ('shunting', 3), ('movement', 3)]\n",
            "The most frequent words in RO_2021_106 are [('train', 14), ('area', 4), ('driver', 3), ('track', 3), ('accident', 3), ('rainfall', 3), ('weather', 3), ('events', 3), ('water', 2), ('floodwater', 2)]\n",
            "The most frequent words in RO_2022_101 are [('fire', 11), ('auxiliary', 6), ('generator', 6), ('wagon', 6), ('train', 5), ('passenger', 3), ('top', 3), ('box', 3), ('maintenance', 3), ('manager', 2)]\n",
            "The most frequent words in RO_2022_102 are [('locomotive', 8), ('rail', 6), ('LE', 6), ('trainee', 6), ('leading', 5), ('signal', 5), ('indications', 5), ('crew', 4), ('work', 4), ('track', 4)]\n",
            "The most frequent words in RO_2022_103 are [('level', 12), ('crossing', 10), ('road', 5), ('signals', 5), ('staff', 5), ('fault', 4), ('alarms', 4), ('traffic', 4), ('disconnected', 4), ('Selwyn', 4)]\n",
            "The most frequent words in RO_2022_104 are [('train', 10), ('level', 10), ('truck', 9), ('crossing', 7), ('rail', 6), ('road', 6), ('refuge', 4), ('likely', 4), ('crossings', 4), ('trailer', 3)]\n",
            "The most frequent words in RO_2023_101 are [('track', 11), ('Ganger', 8), ('travelling', 5), ('worksite', 5), ('stopped', 5), ('rail', 5), ('near', 4), ('team', 4), ('vehicle', 3), ('approximately', 3)]\n",
            "The most frequent words in RO_2023_102 are [('train', 7), ('track', 6), ('wagons', 6), ('crew', 5), ('rail', 5), ('locomotive', 5), ('approximately', 4), ('transport', 4), ('Train', 3), ('Control', 3)]\n",
            "The most frequent words in RO_2023_103 are [('track', 19), ('tunnel', 11), ('workers', 10), ('train', 9), ('protection', 7), ('rail', 5), ('TC', 5), ('locations', 5), ('without', 4), ('northern', 3)]\n",
            "The most frequent words in RO_2023_104 are [('line', 8), ('signal', 7), ('Te', 6), ('Huia', 6), ('train', 5), ('Onehunga', 5), ('branch', 5), ('junction', 5), ('Auckland', 4), ('stop', 4)]\n",
            "The most frequent words in corpus are [('train', 34601), ('Commission', 10416), ('track', 10290), ('rail', 6740), ('driver', 6475), ('passenger', 6151), ('safety', 6139), ('KiwiRail', 5466), ('trains', 4585), ('work', 4473)]\n"
          ]
        }
      ]
    },
    {
      "cell_type": "markdown",
      "source": [
        "Something I would like to look at in the future is what the most frequent 10, 20, 30, ... words in a report can say about the corpus as a whole and the categories the texts represents.\n",
        "\n",
        "The metadata in the report ID; year and incident ID can be used to chart this with even further context."
      ],
      "metadata": {
        "id": "eBGyLdZYtaSl"
      }
    },
    {
      "cell_type": "markdown",
      "source": [
        "# Further Analysis\n",
        "\n",
        "* Your attention is once again brought to:\n",
        "  * Jank fix: please rerun the `import os` block again if there are any problems\n"
      ],
      "metadata": {
        "id": "3VHyX-N7GfRE"
      }
    },
    {
      "cell_type": "code",
      "source": [
        "# Generate bigrams of the corpus and display the first 10\n",
        "\n",
        "corpus = taic['corpus']\n",
        "\n",
        "metrics(corpus)\n",
        "\n",
        "corpus_tokens = nltk.word_tokenize(corpus['text'])\n",
        "\n",
        "corpus_bigrams = list(nltk.bigrams(corpus_tokens))\n",
        "\n",
        "corpus_bigrams[:10]"
      ],
      "metadata": {
        "colab": {
          "base_uri": "https://localhost:8080/"
        },
        "id": "1m3yo5iRInK1",
        "outputId": "4694a357-97f5-46ee-ef23-dc6121804371"
      },
      "execution_count": null,
      "outputs": [
        {
          "output_type": "execute_result",
          "data": {
            "text/plain": [
              "[('evening', 'Thursday'),\n",
              " ('Thursday', 'July'),\n",
              " ('July', 'Wellington'),\n",
              " ('Wellington', 'region'),\n",
              " ('region', 'experiencing'),\n",
              " ('experiencing', 'storm'),\n",
              " ('storm', 'brought'),\n",
              " ('brought', 'heavy'),\n",
              " ('heavy', 'rain'),\n",
              " ('rain', 'strong')]"
            ]
          },
          "metadata": {},
          "execution_count": 93
        }
      ]
    },
    {
      "cell_type": "code",
      "source": [
        "# Create the frequency distribution\n",
        "\n",
        "corpus_bigram_fdist = nltk.FreqDist(corpus_bigrams)"
      ],
      "metadata": {
        "id": "eIFm_y26S0sP"
      },
      "execution_count": null,
      "outputs": []
    },
    {
      "cell_type": "code",
      "source": [
        "corpus_bigram_fdist.most_common(20)"
      ],
      "metadata": {
        "colab": {
          "base_uri": "https://localhost:8080/"
        },
        "id": "FwOCDhItS7L0",
        "outputId": "5d2811ee-f6b3-4685-eeb5-191c9d873465",
        "collapsed": true
      },
      "execution_count": null,
      "outputs": [
        {
          "output_type": "execute_result",
          "data": {
            "text/plain": [
              "[(('passenger', 'train'), 3480),\n",
              " (('train', 'controller'), 3407),\n",
              " (('train', 'control'), 2587),\n",
              " (('level', 'crossing'), 2563),\n",
              " (('Transport', 'Accident'), 2303),\n",
              " (('Accident', 'Investigation'), 2303),\n",
              " (('Investigation', 'Commission'), 2303),\n",
              " (('Commission', 'Commission'), 2048),\n",
              " (('Commission', 'made'), 2044),\n",
              " (('train', 'driver'), 1963),\n",
              " (('Commission', 'found'), 1813),\n",
              " (('safety', 'issues'), 1651),\n",
              " (('Transport', 'Agency'), 1546),\n",
              " (('Chief', 'Executive'), 1497),\n",
              " (('NZ', 'Transport'), 1481),\n",
              " (('train', 'controllers'), 1289),\n",
              " (('train', 'travelling'), 1216),\n",
              " (('safety', 'actions'), 1210),\n",
              " (('track', 'warrant'), 1067),\n",
              " (('Commission', 'also'), 1066)]"
            ]
          },
          "metadata": {},
          "execution_count": 95
        }
      ]
    },
    {
      "cell_type": "code",
      "source": [
        "corpus_fdist = nltk.FreqDist(corpus_tokens)"
      ],
      "metadata": {
        "id": "65jXXKqJZGwN"
      },
      "execution_count": null,
      "outputs": []
    },
    {
      "cell_type": "code",
      "source": [
        "# Create a set of bigrams with the word 'train'\n",
        "train_bigrams = set([bigram for bigram in corpus_bigram_fdist if bigram[0].lower() == 'train'])\n",
        "\n",
        "train_bigrams"
      ],
      "metadata": {
        "colab": {
          "base_uri": "https://localhost:8080/"
        },
        "collapsed": true,
        "id": "fOmvj8G5Z_7-",
        "outputId": "0bd51d79-1618-4b5c-ec6c-e6fb81fa5082"
      },
      "execution_count": null,
      "outputs": [
        {
          "output_type": "execute_result",
          "data": {
            "text/plain": [
              "{('Train', 'Control'),\n",
              " ('Train', 'another'),\n",
              " ('Train', 'approaching'),\n",
              " ('Train', 'consisting'),\n",
              " ('Train', 'control'),\n",
              " ('Train', 'controllers'),\n",
              " ('Train', 'conveying'),\n",
              " ('Train', 'damaged'),\n",
              " ('Train', 'derail'),\n",
              " ('Train', 'derailed'),\n",
              " ('Train', 'drivers'),\n",
              " ('Train', 'empty'),\n",
              " ('Train', 'entered'),\n",
              " ('Train', 'express'),\n",
              " ('Train', 'horn'),\n",
              " ('Train', 'km'),\n",
              " ('Train', 'passed'),\n",
              " ('Train', 'passenger'),\n",
              " ('Train', 'platform'),\n",
              " ('Train', 'radioed'),\n",
              " ('Train', 'scheduled'),\n",
              " ('Train', 'stopped'),\n",
              " ('Train', 'struck'),\n",
              " ('Train', 'train'),\n",
              " ('Train', 'travelling'),\n",
              " ('Train', 'wagon'),\n",
              " ('Train', 'westbound'),\n",
              " ('Train', 'would'),\n",
              " ('train', 'Capital'),\n",
              " ('train', 'Commission'),\n",
              " ('train', 'Despite'),\n",
              " ('train', 'Early'),\n",
              " ('train', 'East'),\n",
              " ('train', 'Keen'),\n",
              " ('train', 'Kāpiti'),\n",
              " ('train', 'Main'),\n",
              " ('train', 'Monday'),\n",
              " ('train', 'Morningside'),\n",
              " ('train', 'Nobody'),\n",
              " ('train', 'None'),\n",
              " ('train', 'One'),\n",
              " ('train', 'Paerata'),\n",
              " ('train', 'Papakura'),\n",
              " ('train', 'Service'),\n",
              " ('train', 'Several'),\n",
              " ('train', 'Sylvia'),\n",
              " ('train', 'Train'),\n",
              " ('train', 'Transport'),\n",
              " ('train', 'Wellington'),\n",
              " ('train', 'Westfield'),\n",
              " ('train', 'Wiri'),\n",
              " ('train', 'able'),\n",
              " ('train', 'accelerate'),\n",
              " ('train', 'across'),\n",
              " ('train', 'activity'),\n",
              " ('train', 'alerted'),\n",
              " ('train', 'alighted'),\n",
              " ('train', 'along'),\n",
              " ('train', 'already'),\n",
              " ('train', 'also'),\n",
              " ('train', 'another'),\n",
              " ('train', 'appear'),\n",
              " ('train', 'approach'),\n",
              " ('train', 'approached'),\n",
              " ('train', 'approaching'),\n",
              " ('train', 'approximately'),\n",
              " ('train', 'area'),\n",
              " ('train', 'arrived'),\n",
              " ('train', 'assistant'),\n",
              " ('train', 'attendant'),\n",
              " ('train', 'authorised'),\n",
              " ('train', 'authorising'),\n",
              " ('train', 'authority'),\n",
              " ('train', 'aware'),\n",
              " ('train', 'away'),\n",
              " ('train', 'back'),\n",
              " ('train', 'began'),\n",
              " ('train', 'begun'),\n",
              " ('train', 'berth'),\n",
              " ('train', 'brake'),\n",
              " ('train', 'brakes'),\n",
              " ('train', 'braking'),\n",
              " ('train', 'bridge'),\n",
              " ('train', 'came'),\n",
              " ('train', 'carrying'),\n",
              " ('train', 'causing'),\n",
              " ('train', 'clear'),\n",
              " ('train', 'cleared'),\n",
              " ('train', 'collided'),\n",
              " ('train', 'colliding'),\n",
              " ('train', 'collision'),\n",
              " ('train', 'collisions'),\n",
              " ('train', 'come'),\n",
              " ('train', 'coming'),\n",
              " ('train', 'completed'),\n",
              " ('train', 'compliance'),\n",
              " ('train', 'concern'),\n",
              " ('train', 'conducted'),\n",
              " ('train', 'conflicting'),\n",
              " ('train', 'consisted'),\n",
              " ('train', 'consisting'),\n",
              " ('train', 'continued'),\n",
              " ('train', 'contributed'),\n",
              " ('train', 'control'),\n",
              " ('train', 'controller'),\n",
              " ('train', 'controllers'),\n",
              " ('train', 'conveying'),\n",
              " ('train', 'correct'),\n",
              " ('train', 'correctly'),\n",
              " ('train', 'could'),\n",
              " ('train', 'crew'),\n",
              " ('train', 'crews'),\n",
              " ('train', 'cross'),\n",
              " ('train', 'crossed'),\n",
              " ('train', 'crossing'),\n",
              " ('train', 'damaged'),\n",
              " ('train', 'danger'),\n",
              " ('train', 'depart'),\n",
              " ('train', 'departed'),\n",
              " ('train', 'derail'),\n",
              " ('train', 'derailed'),\n",
              " ('train', 'derailments'),\n",
              " ('train', 'distracted'),\n",
              " ('train', 'door'),\n",
              " ('train', 'doors'),\n",
              " ('train', 'driven'),\n",
              " ('train', 'driver'),\n",
              " ('train', 'drivers'),\n",
              " ('train', 'electric'),\n",
              " ('train', 'emergency'),\n",
              " ('train', 'en'),\n",
              " ('train', 'encroached'),\n",
              " ('train', 'encroaching'),\n",
              " ('train', 'enter'),\n",
              " ('train', 'entered'),\n",
              " ('train', 'entering'),\n",
              " ('train', 'escaping'),\n",
              " ('train', 'event'),\n",
              " ('train', 'examiner'),\n",
              " ('train', 'examiners'),\n",
              " ('train', 'excavator'),\n",
              " ('train', 'exceeded'),\n",
              " ('train', 'exited'),\n",
              " ('train', 'experiencing'),\n",
              " ('train', 'extensively'),\n",
              " ('train', 'failed'),\n",
              " ('train', 'failures'),\n",
              " ('train', 'first'),\n",
              " ('train', 'fitted'),\n",
              " ('train', 'forward'),\n",
              " ('train', 'found'),\n",
              " ('train', 'four'),\n",
              " ('train', 'gave'),\n",
              " ('train', 'glancing'),\n",
              " ('train', 'gone'),\n",
              " ('train', 'gradual'),\n",
              " ('train', 'group'),\n",
              " ('train', 'handling'),\n",
              " ('train', 'heading'),\n",
              " ('train', 'headlight'),\n",
              " ('train', 'hearing'),\n",
              " ('train', 'heavily'),\n",
              " ('train', 'held'),\n",
              " ('train', 'horn'),\n",
              " ('train', 'impact'),\n",
              " ('train', 'incorrectly'),\n",
              " ('train', 'interface'),\n",
              " ('train', 'invisibility'),\n",
              " ('train', 'journey'),\n",
              " ('train', 'key'),\n",
              " ('train', 'kilometres'),\n",
              " ('train', 'known'),\n",
              " ('train', 'late'),\n",
              " ('train', 'left'),\n",
              " ('train', 'level'),\n",
              " ('train', 'located'),\n",
              " ('train', 'location'),\n",
              " ('train', 'locations'),\n",
              " ('train', 'locomotive'),\n",
              " ('train', 'loop'),\n",
              " ('train', 'lower'),\n",
              " ('train', 'main'),\n",
              " ('train', 'make'),\n",
              " ('train', 'manager'),\n",
              " ('train', 'managers'),\n",
              " ('train', 'meant'),\n",
              " ('train', 'metres'),\n",
              " ('train', 'minimal'),\n",
              " ('train', 'move'),\n",
              " ('train', 'moved'),\n",
              " ('train', 'movement'),\n",
              " ('train', 'moving'),\n",
              " ('train', 'narrowly'),\n",
              " ('train', 'noticed'),\n",
              " ('train', 'observed'),\n",
              " ('train', 'occupants'),\n",
              " ('train', 'occupying'),\n",
              " ('train', 'open'),\n",
              " ('train', 'opened'),\n",
              " ('train', 'operated'),\n",
              " ('train', 'operating'),\n",
              " ('train', 'operations'),\n",
              " ('train', 'operator'),\n",
              " ('train', 'operators'),\n",
              " ('train', 'overheard'),\n",
              " ('train', 'overrun'),\n",
              " ('train', 'parted'),\n",
              " ('train', 'pass'),\n",
              " ('train', 'passed'),\n",
              " ('train', 'passenger'),\n",
              " ('train', 'passengers'),\n",
              " ('train', 'passing'),\n",
              " ('train', 'people'),\n",
              " ('train', 'performance'),\n",
              " ('train', 'permission'),\n",
              " ('train', 'persons'),\n",
              " ('train', 'pipe'),\n",
              " ('train', 'platform'),\n",
              " ('train', 'portions'),\n",
              " ('train', 'proceed'),\n",
              " ('train', 'programme'),\n",
              " ('train', 'pulling'),\n",
              " ('train', 'quite'),\n",
              " ('train', 'radio'),\n",
              " ('train', 'ran'),\n",
              " ('train', 'rather'),\n",
              " ('train', 'reached'),\n",
              " ('train', 'reacted'),\n",
              " ('train', 'received'),\n",
              " ('train', 'red'),\n",
              " ('train', 'reduced'),\n",
              " ('train', 'refuge'),\n",
              " ('train', 'released'),\n",
              " ('train', 'reported'),\n",
              " ('train', 'result'),\n",
              " ('train', 'reversed'),\n",
              " ('train', 'rounded'),\n",
              " ('train', 'rounding'),\n",
              " ('train', 'route'),\n",
              " ('train', 'routed'),\n",
              " ('train', 'running'),\n",
              " ('train', 'safety'),\n",
              " ('train', 'saw'),\n",
              " ('train', 'schedule'),\n",
              " ('train', 'scheduled'),\n",
              " ('train', 'second'),\n",
              " ('train', 'section'),\n",
              " ('train', 'secured'),\n",
              " ('train', 'selectively'),\n",
              " ('train', 'service'),\n",
              " ('train', 'services'),\n",
              " ('train', 'set'),\n",
              " ('train', 'short'),\n",
              " ('train', 'showing'),\n",
              " ('train', 'signalled'),\n",
              " ('train', 'signaller'),\n",
              " ('train', 'signals'),\n",
              " ('train', 'slightly'),\n",
              " ('train', 'slowing'),\n",
              " ('train', 'sooner'),\n",
              " ('train', 'speed'),\n",
              " ('train', 'speeds'),\n",
              " ('train', 'spite'),\n",
              " ('train', 'spun'),\n",
              " ('train', 'standing'),\n",
              " ('train', 'stationary'),\n",
              " ('train', 'still'),\n",
              " ('train', 'stop'),\n",
              " ('train', 'stopped'),\n",
              " ('train', 'straight'),\n",
              " ('train', 'strike'),\n",
              " ('train', 'struck'),\n",
              " ('train', 'structures'),\n",
              " ('train', 'subsequently'),\n",
              " ('train', 'suffered'),\n",
              " ('train', 'supposed'),\n",
              " ('train', 'systems'),\n",
              " ('train', 'technology'),\n",
              " ('train', 'thought'),\n",
              " ('train', 'told'),\n",
              " ('train', 'took'),\n",
              " ('train', 'track'),\n",
              " ('train', 'train'),\n",
              " ('train', 'training'),\n",
              " ('train', 'travel'),\n",
              " ('train', 'travelled'),\n",
              " ('train', 'travelling'),\n",
              " ('train', 'traversing'),\n",
              " ('train', 'truck'),\n",
              " ('train', 'type'),\n",
              " ('train', 'types'),\n",
              " ('train', 'unable'),\n",
              " ('train', 'used'),\n",
              " ('train', 'vehicle'),\n",
              " ('train', 'view'),\n",
              " ('train', 'vigilance'),\n",
              " ('train', 'wagons'),\n",
              " ('train', 'waiting'),\n",
              " ('train', 'whistle'),\n",
              " ('train', 'within'),\n",
              " ('train', 'without'),\n",
              " ('train', 'words'),\n",
              " ('train', 'would'),\n",
              " ('train', 'wrong'),\n",
              " ('train', 'yard')}"
            ]
          },
          "metadata": {},
          "execution_count": 101
        }
      ]
    },
    {
      "cell_type": "code",
      "source": [
        "train_bigram_strengths = dict()\n",
        "\n",
        "for bigram in train_bigrams:\n",
        "  train_bigram_strengths[bigram[1]] = (corpus_bigram_fdist[bigram] / corpus_fdist[bigram[1]]) * 100"
      ],
      "metadata": {
        "id": "ZTjE18yeb8r2"
      },
      "execution_count": null,
      "outputs": []
    },
    {
      "cell_type": "code",
      "source": [
        "train_bigram_strengths['speed']"
      ],
      "metadata": {
        "colab": {
          "base_uri": "https://localhost:8080/"
        },
        "id": "JTGp0ziTcIWO",
        "outputId": "e3b2d730-e13a-4429-cb3b-4d63b6f5b6ad"
      },
      "execution_count": null,
      "outputs": [
        {
          "output_type": "execute_result",
          "data": {
            "text/plain": [
              "8.74604847207587"
            ]
          },
          "metadata": {},
          "execution_count": 102
        }
      ]
    },
    {
      "cell_type": "markdown",
      "source": [
        "We can see that 9% of the time a train is mentioned in a summary, the following word will be speed. We could look at how many investigation summaries in the corpus contain the phrase 'train speed', and see if this is representative of how many summaries in the corpus discuss rail incidents related to train speed."
      ],
      "metadata": {
        "id": "iUt86X1ycVhC"
      }
    },
    {
      "cell_type": "code",
      "source": [
        "i = -1\n",
        "\n",
        "for key in taic.keys():\n",
        "  if(taic[key]['text'].find(\"train speed\") != -1):\n",
        "    i = i + 1\n",
        "\n",
        "train_speed_count = i/76\n",
        "train_speed_count * 100"
      ],
      "metadata": {
        "colab": {
          "base_uri": "https://localhost:8080/"
        },
        "id": "HAjPlqVKdWbe",
        "outputId": "1b669ad4-f32c-42ae-df3a-fa5a65644ee1"
      },
      "execution_count": null,
      "outputs": [
        {
          "output_type": "execute_result",
          "data": {
            "text/plain": [
              "7.894736842105263"
            ]
          },
          "metadata": {},
          "execution_count": 104
        }
      ]
    },
    {
      "cell_type": "markdown",
      "source": [
        "The phrase 'train speed' appears in 8% of summaries. This seems to confirm our initial idea, and would be interesting to look further into whether can discern (or project) how often incidents may occur given key words in the texts.\n",
        "\n",
        "We will try this with some other bigrams:\n",
        "\n",
        "    'train brakes'\n",
        "    'train collision'\n",
        "    'train yard'"
      ],
      "metadata": {
        "id": "hgBYNFPlfXLF"
      }
    },
    {
      "cell_type": "code",
      "source": [
        "def bigram_freq(word):\n",
        "  i = -1\n",
        "  word = 'train ' + word\n",
        "\n",
        "  for key in taic.keys():\n",
        "    if(taic[key]['text'].find(word) != -1):\n",
        "      i = i + 1\n",
        "\n",
        "  train_speed_count = i/76\n",
        "  return train_speed_count * 100"
      ],
      "metadata": {
        "id": "YaWdXSB5zEW2"
      },
      "execution_count": null,
      "outputs": []
    },
    {
      "cell_type": "code",
      "source": [
        "train_bigram_strengths['brakes']"
      ],
      "metadata": {
        "colab": {
          "base_uri": "https://localhost:8080/"
        },
        "id": "4XZ60aCMxUr9",
        "outputId": "c4a96609-c2b7-4245-fc33-4d259d9b7a26"
      },
      "execution_count": null,
      "outputs": [
        {
          "output_type": "execute_result",
          "data": {
            "text/plain": [
              "58.29903978052127"
            ]
          },
          "metadata": {},
          "execution_count": 116
        }
      ]
    },
    {
      "cell_type": "code",
      "source": [
        "bigram_freq('brakes')"
      ],
      "metadata": {
        "colab": {
          "base_uri": "https://localhost:8080/"
        },
        "id": "Y3pEJKz2z2hk",
        "outputId": "3113f98d-2054-41cc-fdf8-c3306be5da1a"
      },
      "execution_count": null,
      "outputs": [
        {
          "output_type": "execute_result",
          "data": {
            "text/plain": [
              "13.157894736842104"
            ]
          },
          "metadata": {},
          "execution_count": 123
        }
      ]
    },
    {
      "cell_type": "markdown",
      "source": [
        "The word 'brakes' follows 'train' more often than 'speed' does (58% of the time!), but only appears in 13% of reports. This could indicate a higher use of technical terms in reports regarding mechanical failures (possibly looking into the contexts that incident-descriptive words appear in)."
      ],
      "metadata": {
        "id": "oOOGNyyu0Zm-"
      }
    },
    {
      "cell_type": "code",
      "source": [
        "train_bigram_strengths['collision']"
      ],
      "metadata": {
        "colab": {
          "base_uri": "https://localhost:8080/"
        },
        "id": "PACz7jqb0Ywu",
        "outputId": "ebd51b05-b516-406d-c03a-bf10e04e6733"
      },
      "execution_count": null,
      "outputs": [
        {
          "output_type": "execute_result",
          "data": {
            "text/plain": [
              "1.7656500802568218"
            ]
          },
          "metadata": {},
          "execution_count": 129
        }
      ]
    },
    {
      "cell_type": "code",
      "source": [
        "bigram_freq('collision')"
      ],
      "metadata": {
        "colab": {
          "base_uri": "https://localhost:8080/"
        },
        "id": "ymTfza1N2C2V",
        "outputId": "6a234a0b-4a51-4fcc-b404-a619200a4bf3"
      },
      "execution_count": null,
      "outputs": [
        {
          "output_type": "execute_result",
          "data": {
            "text/plain": [
              "2.631578947368421"
            ]
          },
          "metadata": {},
          "execution_count": 127
        }
      ]
    },
    {
      "cell_type": "markdown",
      "source": [
        "~~Good to see the rate of 'train' 'collision' is ~2%!~~\n",
        "\n",
        "'train' 'collision' falls more in line with what we see with 'train' 'speed', which furthers the idea of technical terms (or at least brake problems) occuring most frequently in the reports."
      ],
      "metadata": {
        "id": "rI5KL22-2Oth"
      }
    },
    {
      "cell_type": "code",
      "source": [
        "train_bigram_strengths['door']"
      ],
      "metadata": {
        "colab": {
          "base_uri": "https://localhost:8080/"
        },
        "id": "OqlduWvD3NKv",
        "outputId": "f304f24a-09d6-4d34-f5cd-742ae80b4f2c"
      },
      "execution_count": null,
      "outputs": [
        {
          "output_type": "execute_result",
          "data": {
            "text/plain": [
              "33.88235294117647"
            ]
          },
          "metadata": {},
          "execution_count": 126
        }
      ]
    },
    {
      "cell_type": "code",
      "source": [
        "bigram_freq('door')"
      ],
      "metadata": {
        "colab": {
          "base_uri": "https://localhost:8080/"
        },
        "id": "Gt1MFvh53QNW",
        "outputId": "30f075c5-eaf5-4d16-a642-407f02d3d6d8"
      },
      "execution_count": null,
      "outputs": [
        {
          "output_type": "execute_result",
          "data": {
            "text/plain": [
              "2.631578947368421"
            ]
          },
          "metadata": {},
          "execution_count": 128
        }
      ]
    },
    {
      "cell_type": "markdown",
      "source": [
        "A problem with a door in two incident reports, with the bigram 'train' 'door' occuring 34% of the time."
      ],
      "metadata": {
        "id": "NdO9IOLh3Y0T"
      }
    },
    {
      "cell_type": "code",
      "source": [
        "train_bigram_strengths['yard']"
      ],
      "metadata": {
        "colab": {
          "base_uri": "https://localhost:8080/"
        },
        "id": "mnOppaxF36cZ",
        "outputId": "9307c62b-eeac-49ed-c297-734314a06c7b"
      },
      "execution_count": null,
      "outputs": [
        {
          "output_type": "execute_result",
          "data": {
            "text/plain": [
              "8.664259927797833"
            ]
          },
          "metadata": {},
          "execution_count": 133
        }
      ]
    },
    {
      "cell_type": "code",
      "source": [
        "bigram_freq('yard')"
      ],
      "metadata": {
        "colab": {
          "base_uri": "https://localhost:8080/"
        },
        "id": "dHLRuyB736jc",
        "outputId": "353c4f06-88b8-400c-f20c-d503381a07df"
      },
      "execution_count": null,
      "outputs": [
        {
          "output_type": "execute_result",
          "data": {
            "text/plain": [
              "1.3157894736842104"
            ]
          },
          "metadata": {},
          "execution_count": 134
        }
      ]
    },
    {
      "cell_type": "markdown",
      "source": [
        "This confirms what we have thought about techincal terms, occuring in a higher density in the reports they call home, but yard is an interesting case as it could be looked at as an incident location."
      ],
      "metadata": {
        "id": "nH6W9A0Y361N"
      }
    },
    {
      "cell_type": "markdown",
      "source": [
        "# Conclusion\n",
        "\n",
        "The types and tokens make sense in the context of the corpus, with some of the most frequently occuring words: 'train', 'safety', 'KiwiRail', 'incident', and 'risk' being enough to clue in to what the text is about.\n",
        "\n",
        "I was surprised by how often the Transport Accident Investigation Commission mentions itself within the reports, each token appearing in the 50 most frequent words after removing punctuation, numbers and headers.\n",
        "\n",
        "It would be worth getting more comfortable with matlab, as having a visual of the top 10 most frequently words for each summary, and comparing that to the most frequent words across the corpus would be great for having a quick reference for the contents of the report, and simplifying it into a few key most frequent words.\n",
        "\n",
        "From my observations of 'train' bigrams, incident type seems to have some interesting relationships to unpick, where incidents where technical problems have occurred (brakes, door as opposed to speed, collision). Something to look into could be whether you can make meaningful predictions of a category based on the data collected.\n",
        "\n",
        "I'd like to further explore categories of year, location, and incident type, as well as possibly extending the scope of my corpus to include earlier eras in New Zealand Rail, or other forms of transport the Commission covers; maritime and air.\n",
        "\n",
        "In my own time, looking into how the tone and voice of these summaries have changed over time will help me understand how key information is presented by the Commission, and whether there are any significants trends in this language."
      ],
      "metadata": {
        "id": "Cx2PjW2D7qZv"
      }
    }
  ]
}